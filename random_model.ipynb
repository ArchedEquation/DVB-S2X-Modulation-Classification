{
 "cells": [
  {
   "cell_type": "code",
   "execution_count": 5,
   "metadata": {},
   "outputs": [],
   "source": [
    "from sklearn.linear_model import LogisticRegression\n",
    "from sklearn.neighbors import KNeighborsClassifier\n",
    "from sklearn.ensemble import RandomForestClassifier\n",
    "\n",
    "# Model Evaluations\n",
    "from sklearn.model_selection import train_test_split, cross_val_score\n",
    "from sklearn.model_selection import RandomizedSearchCV, GridSearchCV\n",
    "from sklearn.metrics import confusion_matrix, classification_report\n",
    "from sklearn.metrics import precision_score, recall_score, f1_score\n",
    "import time\n",
    "import sys\n",
    "import pickle\n",
    " \n",
    "import pandas as pd \n",
    "import numpy as np\n",
    "import matplotlib.pyplot as plt"
   ]
  },
  {
   "cell_type": "code",
   "execution_count": 6,
   "metadata": {},
   "outputs": [
    {
     "data": {
      "text/html": [
       "<div>\n",
       "<style scoped>\n",
       "    .dataframe tbody tr th:only-of-type {\n",
       "        vertical-align: middle;\n",
       "    }\n",
       "\n",
       "    .dataframe tbody tr th {\n",
       "        vertical-align: top;\n",
       "    }\n",
       "\n",
       "    .dataframe thead th {\n",
       "        text-align: right;\n",
       "    }\n",
       "</style>\n",
       "<table border=\"1\" class=\"dataframe\">\n",
       "  <thead>\n",
       "    <tr style=\"text-align: right;\">\n",
       "      <th></th>\n",
       "      <th>modulation_type</th>\n",
       "      <th>symbol</th>\n",
       "      <th>label</th>\n",
       "      <th>magnitude</th>\n",
       "      <th>phase</th>\n",
       "      <th>real</th>\n",
       "      <th>imag</th>\n",
       "    </tr>\n",
       "  </thead>\n",
       "  <tbody>\n",
       "    <tr>\n",
       "      <th>0</th>\n",
       "      <td>bpsk</td>\n",
       "      <td>(1+0j)</td>\n",
       "      <td>1</td>\n",
       "      <td>1.000000</td>\n",
       "      <td>0.000000</td>\n",
       "      <td>1.000000</td>\n",
       "      <td>0.000000</td>\n",
       "    </tr>\n",
       "    <tr>\n",
       "      <th>1</th>\n",
       "      <td>bpsk</td>\n",
       "      <td>(-1+0j)</td>\n",
       "      <td>0</td>\n",
       "      <td>1.000000</td>\n",
       "      <td>3.141593</td>\n",
       "      <td>-1.000000</td>\n",
       "      <td>0.000000</td>\n",
       "    </tr>\n",
       "    <tr>\n",
       "      <th>2</th>\n",
       "      <td>bpsk</td>\n",
       "      <td>(-1+0j)</td>\n",
       "      <td>0</td>\n",
       "      <td>1.000000</td>\n",
       "      <td>3.141593</td>\n",
       "      <td>-1.000000</td>\n",
       "      <td>0.000000</td>\n",
       "    </tr>\n",
       "    <tr>\n",
       "      <th>3</th>\n",
       "      <td>bpsk</td>\n",
       "      <td>(-1+0j)</td>\n",
       "      <td>0</td>\n",
       "      <td>1.000000</td>\n",
       "      <td>3.141593</td>\n",
       "      <td>-1.000000</td>\n",
       "      <td>0.000000</td>\n",
       "    </tr>\n",
       "    <tr>\n",
       "      <th>4</th>\n",
       "      <td>bpsk</td>\n",
       "      <td>(-1+0j)</td>\n",
       "      <td>0</td>\n",
       "      <td>1.000000</td>\n",
       "      <td>3.141593</td>\n",
       "      <td>-1.000000</td>\n",
       "      <td>0.000000</td>\n",
       "    </tr>\n",
       "    <tr>\n",
       "      <th>...</th>\n",
       "      <td>...</td>\n",
       "      <td>...</td>\n",
       "      <td>...</td>\n",
       "      <td>...</td>\n",
       "      <td>...</td>\n",
       "      <td>...</td>\n",
       "      <td>...</td>\n",
       "    </tr>\n",
       "    <tr>\n",
       "      <th>795</th>\n",
       "      <td>256apsk</td>\n",
       "      <td>(-0.2888089479520107+0.8888625445008081j)</td>\n",
       "      <td>0</td>\n",
       "      <td>0.934605</td>\n",
       "      <td>1.884956</td>\n",
       "      <td>-0.288809</td>\n",
       "      <td>0.888863</td>\n",
       "    </tr>\n",
       "    <tr>\n",
       "      <th>796</th>\n",
       "      <td>256apsk</td>\n",
       "      <td>(-0.28880894795201084-0.888862544500808j)</td>\n",
       "      <td>0</td>\n",
       "      <td>0.934605</td>\n",
       "      <td>-1.884956</td>\n",
       "      <td>-0.288809</td>\n",
       "      <td>-0.888863</td>\n",
       "    </tr>\n",
       "    <tr>\n",
       "      <th>797</th>\n",
       "      <td>256apsk</td>\n",
       "      <td>(0.6776553913499502-0.9516338422362578j)</td>\n",
       "      <td>1</td>\n",
       "      <td>1.168257</td>\n",
       "      <td>-0.951998</td>\n",
       "      <td>0.677655</td>\n",
       "      <td>-0.951634</td>\n",
       "    </tr>\n",
       "    <tr>\n",
       "      <th>798</th>\n",
       "      <td>256apsk</td>\n",
       "      <td>(1.0845720904002638-0.4341971670103332j)</td>\n",
       "      <td>0</td>\n",
       "      <td>1.168257</td>\n",
       "      <td>-0.380799</td>\n",
       "      <td>1.084572</td>\n",
       "      <td>-0.434197</td>\n",
       "    </tr>\n",
       "    <tr>\n",
       "      <th>799</th>\n",
       "      <td>256apsk</td>\n",
       "      <td>(-0.5277621357973548+0.17148031284650642j)</td>\n",
       "      <td>0</td>\n",
       "      <td>0.554922</td>\n",
       "      <td>2.827433</td>\n",
       "      <td>-0.527762</td>\n",
       "      <td>0.171480</td>\n",
       "    </tr>\n",
       "  </tbody>\n",
       "</table>\n",
       "<p>800 rows × 7 columns</p>\n",
       "</div>"
      ],
      "text/plain": [
       "    modulation_type                                      symbol  label  \\\n",
       "0              bpsk                                      (1+0j)      1   \n",
       "1              bpsk                                     (-1+0j)      0   \n",
       "2              bpsk                                     (-1+0j)      0   \n",
       "3              bpsk                                     (-1+0j)      0   \n",
       "4              bpsk                                     (-1+0j)      0   \n",
       "..              ...                                         ...    ...   \n",
       "795         256apsk   (-0.2888089479520107+0.8888625445008081j)      0   \n",
       "796         256apsk   (-0.28880894795201084-0.888862544500808j)      0   \n",
       "797         256apsk    (0.6776553913499502-0.9516338422362578j)      1   \n",
       "798         256apsk    (1.0845720904002638-0.4341971670103332j)      0   \n",
       "799         256apsk  (-0.5277621357973548+0.17148031284650642j)      0   \n",
       "\n",
       "     magnitude     phase      real      imag  \n",
       "0     1.000000  0.000000  1.000000  0.000000  \n",
       "1     1.000000  3.141593 -1.000000  0.000000  \n",
       "2     1.000000  3.141593 -1.000000  0.000000  \n",
       "3     1.000000  3.141593 -1.000000  0.000000  \n",
       "4     1.000000  3.141593 -1.000000  0.000000  \n",
       "..         ...       ...       ...       ...  \n",
       "795   0.934605  1.884956 -0.288809  0.888863  \n",
       "796   0.934605 -1.884956 -0.288809 -0.888863  \n",
       "797   1.168257 -0.951998  0.677655 -0.951634  \n",
       "798   1.168257 -0.380799  1.084572 -0.434197  \n",
       "799   0.554922  2.827433 -0.527762  0.171480  \n",
       "\n",
       "[800 rows x 7 columns]"
      ]
     },
     "execution_count": 6,
     "metadata": {},
     "output_type": "execute_result"
    }
   ],
   "source": [
    "df=pd.read_csv(\"symbol_features.csv\")\n",
    "df"
   ]
  },
  {
   "cell_type": "code",
   "execution_count": 29,
   "metadata": {},
   "outputs": [],
   "source": [
    "\n",
    "feature_cols = ['magnitude']\n",
    "target_col = 'modulation_type'\n",
    "\n",
    "X_train, X_test, y_train, y_test = train_test_split(df[feature_cols], df[target_col], test_size=0.2, random_state=42)\n",
    "\n",
    "clf = RandomForestClassifier(n_estimators=100, random_state=42)\n",
    "\n",
    "clf.fit(X_train, y_train)\n",
    "\n",
    "# Make predictions on the test set\n",
    "y_pred = clf.predict(X_test)\n",
    "\n",
    "# # Evaluate the model\n",
    "# accuracy = accuracy_score(y_test, y_pred)\n",
    "# print(f'Accuracy: {accuracy:.3f}')\n",
    "\n",
    "# # Print the classification report\n",
    "# print(classification_report(y_test, y_pred))\n",
    "\n",
    "# # Print the confusion matrix\n",
    "# print(confusion_matrix(y_test, y_pred))"
   ]
  },
  {
   "cell_type": "code",
   "execution_count": 26,
   "metadata": {},
   "outputs": [
    {
     "data": {
      "text/plain": [
       "0.88125"
      ]
     },
     "execution_count": 26,
     "metadata": {},
     "output_type": "execute_result"
    }
   ],
   "source": [
    "clf.score(X_test,y_test)"
   ]
  },
  {
   "cell_type": "code",
   "execution_count": null,
   "metadata": {},
   "outputs": [],
   "source": [
    "y_pred = clf.predict(X_test)\n",
    "y_pred"
   ]
  },
  {
   "cell_type": "code",
   "execution_count": null,
   "metadata": {},
   "outputs": [],
   "source": [
    "print(classification_report(y_test, y_pred))"
   ]
  },
  {
   "cell_type": "code",
   "execution_count": null,
   "metadata": {},
   "outputs": [],
   "source": [
    "df_noise=pd.read_csv(\"symbol_features_noise.csv\")\n",
    "df_noise"
   ]
  },
  {
   "cell_type": "code",
   "execution_count": null,
   "metadata": {},
   "outputs": [],
   "source": [
    "feature_cols = ['magnitude']\n",
    "target_col = 'modulation_type'\n",
    "\n",
    "X_train, X_test, y_train, y_test = train_test_split(df_noise[feature_cols], df_noise[target_col], test_size=0.2, random_state=42)\n",
    "\n",
    "clf2 = RandomForestClassifier(n_estimators=100, random_state=42)\n",
    "\n",
    "clf2.fit(X_train, y_train)"
   ]
  },
  {
   "cell_type": "code",
   "execution_count": null,
   "metadata": {},
   "outputs": [],
   "source": [
    "clf2.score(X_test,y_test)"
   ]
  },
  {
   "cell_type": "code",
   "execution_count": null,
   "metadata": {},
   "outputs": [],
   "source": [
    "y_pred = clf.predict(X_test)\n",
    "y_pred"
   ]
  },
  {
   "cell_type": "code",
   "execution_count": null,
   "metadata": {},
   "outputs": [],
   "source": [
    "print(classification_report(y_pred,y_test))"
   ]
  },
  {
   "cell_type": "code",
   "execution_count": 33,
   "metadata": {},
   "outputs": [],
   "source": [
    "def weighted_score(model, X_test, y_test, weight_for_latency = 0.2, weight_for_model_size=0.1):\n",
    "    try:\n",
    "        accuracy = model.score(X_test, y_test)        \n",
    "        start_time = time.time()\n",
    "        _ = model.predict(X_test)\n",
    "        end_time = time.time()\n",
    "        latency = (end_time - start_time) / len(X_test)\n",
    "\n",
    "        model_pickle = pickle.dumps(clf)\n",
    "        model_size = len(model_pickle)\n",
    "\n",
    "        max_latency = 0.02\n",
    "        max_model_size = 2e6\n",
    "\n",
    "        normalized_latency = latency/max_latency\n",
    "        normalized_size = model_size/max_model_size\n",
    "\n",
    "        score = ( accuracy) + (weight_for_latency * normalized_latency) + (weight_for_model_size * normalized_size)\n",
    "        \n",
    "        result_string = (\n",
    "            f\"Accuracy: {accuracy:.3f}\\n\"\n",
    "            f\"Normalized Latency: {normalized_latency:.3f} and Latency: {latency}\\n\"\n",
    "            f\"Normalized Size: {normalized_size:.3f} and Size: {model_size} in Bytes\\n\"\n",
    "            f\"Final Power-Efficient Score: {score:.3f}\")\n",
    "\n",
    "        return result_string\n",
    "\n",
    "    \n",
    "    except Exception as e:\n",
    "        print(f\"Error calculating power-efficient score: {e}\")\n",
    "        return None"
   ]
  },
  {
   "cell_type": "code",
   "execution_count": 34,
   "metadata": {},
   "outputs": [
    {
     "name": "stdout",
     "output_type": "stream",
     "text": [
      "Accuracy: 1.000\n",
      "Normalized Latency: 0.004 and Latency: 8.090734481811524e-05\n",
      "Normalized Size: 0.313 and Size: 626744 in Bytes\n",
      "Final Power-Efficient Score: 0.732\n"
     ]
    }
   ],
   "source": [
    "print(weighted_score(clf, X_test, y_test))"
   ]
  }
 ],
 "metadata": {
  "kernelspec": {
   "display_name": "Python 3 (ipykernel)",
   "language": "python",
   "name": "python3"
  },
  "language_info": {
   "codemirror_mode": {
    "name": "ipython",
    "version": 3
   },
   "file_extension": ".py",
   "mimetype": "text/x-python",
   "name": "python",
   "nbconvert_exporter": "python",
   "pygments_lexer": "ipython3",
   "version": "3.12.2"
  }
 },
 "nbformat": 4,
 "nbformat_minor": 4
}
